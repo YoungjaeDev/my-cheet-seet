{
 "cells": [
  {
   "cell_type": "code",
   "execution_count": 4,
   "metadata": {},
   "outputs": [],
   "source": [
    "from glob import glob\n",
    "import xml.etree.ElementTree as ET\n",
    "from tqdm import tqdm\n",
    "\n",
    "import numpy as np\n",
    "\n",
    "ANNOTATIONS_PATH = \"./VOC2012/Annotations\"\n",
    "CLUSTERS = 5"
   ]
  },
  {
   "cell_type": "code",
   "execution_count": 7,
   "metadata": {},
   "outputs": [],
   "source": [
    "def load_dataset(path):\n",
    "    dataset = []\n",
    "    for xml_file in tqdm(glob(\"{}/*xml\".format(path))):\n",
    "        tree = ET.parse(xml_file)\n",
    "\n",
    "        height = int(tree.findtext(\"./size/height\"))\n",
    "        width = int(tree.findtext(\"./size/width\"))\n",
    "\n",
    "        for obj in tree.iter(\"object\"):\n",
    "            xmin = int(float(obj.findtext(\"bndbox/xmin\"))) / width\n",
    "            ymin = int(float(obj.findtext(\"bndbox/ymin\"))) / height\n",
    "            xmax = int(float(obj.findtext(\"bndbox/xmax\"))) / width\n",
    "            ymax = int(float(obj.findtext(\"bndbox/ymax\"))) / height\n",
    "\n",
    "            dataset.append([xmax - xmin, ymax - ymin])\n",
    "\n",
    "    return np.array(dataset)"
   ]
  },
  {
   "cell_type": "code",
   "execution_count": 8,
   "metadata": {},
   "outputs": [
    {
     "name": "stderr",
     "output_type": "stream",
     "text": [
      "100%|██████████| 17125/17125 [00:02<00:00, 6100.72it/s]\n"
     ]
    }
   ],
   "source": [
    "data = load_dataset(ANNOTATIONS_PATH)"
   ]
  },
  {
   "cell_type": "code",
   "execution_count": 22,
   "metadata": {},
   "outputs": [],
   "source": [
    "def iou(box, clusters):\n",
    "    \"\"\"[summary]\n",
    "\tCalculate the intersection over union (iou) between a box and k clusters\n",
    " \n",
    "\tArgs:\n",
    "\t\tbox ([np.array]): single array (w, h)\n",
    "\t\tclusters ([np.array]): numpy array of shpae (k, 2)\n",
    "\t\"\"\"\n",
    "    \n",
    "    # print(f\"width clusters[:, 0]: {clusters[:, 0]}, box[0]: {box[0]}\")\n",
    "    # print(f\"width clusters[:, 1]: {clusters[:, 1]}, box[1]: {box[1]}\")\n",
    "    \n",
    "    x = np.minimum(clusters[:, 0], box[0]) # broadcasting\n",
    "    y = np.minimum(clusters[:, 1], box[1])\n",
    "    \n",
    "    if np.count_nonzero(x==0) > 0 or np.count_nonzero(y==0) > 0:\n",
    "        raise ValueError(\"Box has no area\")\n",
    "    \n",
    "    intersection = x*y\n",
    "    box_area = box[0] * box[1]\n",
    "    cluster_area = clusters[:, 0] * clusters[:, 1]\n",
    "    \n",
    "    iou_ = intersection / (box_area + cluster_area - intersection)\n",
    "    \n",
    "    return iou_"
   ]
  },
  {
   "cell_type": "code",
   "execution_count": 25,
   "metadata": {},
   "outputs": [],
   "source": [
    "def avg_iou(boxes, clusters):\n",
    "    return np.mean([np.max(iou(boxes[i], clusters)) for i in range(boxes.shape[0])])"
   ]
  },
  {
   "cell_type": "code",
   "execution_count": 26,
   "metadata": {},
   "outputs": [],
   "source": [
    "def kmeans(boxes, k, dist=np.median):\n",
    "    \"\"\"[summary]\n",
    "    Calculate k-means clustering with the intersection over union (IoU) metric\n",
    "\n",
    "    Args:\n",
    "        boxes ([np.array]): numpy array of shape (r, 2), where r is the number of rows\n",
    "        k ([int]): number of clusters\n",
    "        dist: distance function. Defaults to np.median.\n",
    "    Return:\n",
    "        clusters: (k, 2)\n",
    "    \"\"\"\n",
    "    rows = boxes.shape[0]\n",
    "\n",
    "    distances = np.empty((rows, k))\n",
    "    last_clusters = np.zeros((rows,))\n",
    "\n",
    "    np.random.seed()\n",
    "\n",
    "    clusters = boxes[np.random.choice(rows, k, replace=False)]\n",
    "    \n",
    "    while True:\n",
    "        for row in tqdm(range(rows)):\n",
    "            distances[row] = 1 - iou(boxes[row], clusters)\n",
    "            \n",
    "        nearest_clusters = np.argmin(distances, axis=1)\n",
    "        \n",
    "        if (last_clusters == nearest_clusters).all():\n",
    "            break\n",
    "        \n",
    "        for i in range(k):\n",
    "            clusters[i] = dist(boxes[nearest_clusters == i], axis=0)\n",
    "        \n",
    "        last_clusters = nearest_clusters\n",
    "        \n",
    "    return clusters"
   ]
  },
  {
   "cell_type": "code",
   "execution_count": 27,
   "metadata": {},
   "outputs": [
    {
     "name": "stderr",
     "output_type": "stream",
     "text": [
      "100%|██████████| 40138/40138 [00:00<00:00, 70699.31it/s]\n",
      "100%|██████████| 40138/40138 [00:00<00:00, 70240.45it/s]\n",
      "100%|██████████| 40138/40138 [00:00<00:00, 71738.60it/s]\n",
      "100%|██████████| 40138/40138 [00:00<00:00, 69983.00it/s]\n",
      "100%|██████████| 40138/40138 [00:00<00:00, 70235.91it/s]\n",
      "100%|██████████| 40138/40138 [00:00<00:00, 68439.22it/s]\n",
      "100%|██████████| 40138/40138 [00:00<00:00, 71358.05it/s]\n",
      "100%|██████████| 40138/40138 [00:00<00:00, 70482.03it/s]\n",
      "100%|██████████| 40138/40138 [00:00<00:00, 70236.20it/s]\n",
      "100%|██████████| 40138/40138 [00:00<00:00, 69749.31it/s]\n",
      "100%|██████████| 40138/40138 [00:00<00:00, 70363.07it/s]\n",
      "100%|██████████| 40138/40138 [00:00<00:00, 69093.54it/s]\n",
      "100%|██████████| 40138/40138 [00:00<00:00, 70979.45it/s]\n",
      "100%|██████████| 40138/40138 [00:00<00:00, 69628.58it/s]\n",
      "100%|██████████| 40138/40138 [00:00<00:00, 70358.93it/s]\n",
      "100%|██████████| 40138/40138 [00:00<00:00, 71230.37it/s]\n",
      "100%|██████████| 40138/40138 [00:00<00:00, 70605.82it/s]\n",
      "100%|██████████| 40138/40138 [00:00<00:00, 70356.40it/s]\n",
      "100%|██████████| 40138/40138 [00:00<00:00, 70852.82it/s]\n",
      "100%|██████████| 40138/40138 [00:00<00:00, 69988.21it/s]\n",
      "100%|██████████| 40138/40138 [00:00<00:00, 70854.43it/s]\n",
      "100%|██████████| 40138/40138 [00:00<00:00, 72379.51it/s]\n",
      "100%|██████████| 40138/40138 [00:00<00:00, 70846.38it/s]\n",
      "100%|██████████| 40138/40138 [00:00<00:00, 71486.22it/s]\n",
      "100%|██████████| 40138/40138 [00:00<00:00, 69598.67it/s]\n",
      "100%|██████████| 40138/40138 [00:00<00:00, 69679.96it/s]\n",
      "100%|██████████| 40138/40138 [00:00<00:00, 69811.67it/s]\n",
      "100%|██████████| 40138/40138 [00:00<00:00, 72124.22it/s]\n",
      "100%|██████████| 40138/40138 [00:00<00:00, 69883.71it/s]\n",
      "100%|██████████| 40138/40138 [00:00<00:00, 72505.20it/s]\n",
      "100%|██████████| 40138/40138 [00:00<00:00, 71230.82it/s]\n",
      "100%|██████████| 40138/40138 [00:00<00:00, 70854.37it/s]\n",
      "100%|██████████| 40138/40138 [00:00<00:00, 70113.75it/s]\n",
      "100%|██████████| 40138/40138 [00:00<00:00, 69990.54it/s]\n",
      "100%|██████████| 40138/40138 [00:00<00:00, 70098.37it/s]\n",
      "100%|██████████| 40138/40138 [00:00<00:00, 70361.37it/s]\n",
      "100%|██████████| 40138/40138 [00:00<00:00, 70792.19it/s]\n",
      "100%|██████████| 40138/40138 [00:00<00:00, 69748.35it/s]\n",
      "100%|██████████| 40138/40138 [00:00<00:00, 69148.91it/s]\n",
      "100%|██████████| 40138/40138 [00:00<00:00, 62782.46it/s]\n",
      "100%|██████████| 40138/40138 [00:00<00:00, 67078.94it/s]\n",
      "100%|██████████| 40138/40138 [00:00<00:00, 70358.93it/s]\n",
      "100%|██████████| 40138/40138 [00:00<00:00, 70968.17it/s]\n",
      "100%|██████████| 40138/40138 [00:00<00:00, 69388.49it/s]\n",
      "100%|██████████| 40138/40138 [00:00<00:00, 68795.53it/s]\n",
      "100%|██████████| 40138/40138 [00:00<00:00, 69870.37it/s]\n"
     ]
    }
   ],
   "source": [
    "out = kmeans(data, CLUSTERS)"
   ]
  },
  {
   "cell_type": "code",
   "execution_count": 29,
   "metadata": {},
   "outputs": [
    {
     "name": "stdout",
     "output_type": "stream",
     "text": [
      "Accuracy: 61.24%\n",
      "Boxes:\n",
      " [[0.812      0.82933333]\n",
      " [0.402      0.608     ]\n",
      " [0.042      0.07207207]\n",
      " [0.194      0.37866667]\n",
      " [0.1        0.17066667]]\n",
      "Ratios:\n",
      " [0.51, 0.58, 0.59, 0.66, 0.98]\n",
      "Inverse Ratios:\n",
      " [1.02, 1.51, 1.71, 1.72, 1.95]\n"
     ]
    }
   ],
   "source": [
    "print(\"Accuracy: {:.2f}%\".format(avg_iou(data, out) * 100))\n",
    "print(\"Boxes:\\n {}\".format(out))\n",
    "\n",
    "ratios = np.around(out[:, 0] / out[:, 1], decimals=2).tolist()\n",
    "inverse_ratios = np.around(out[:, 1] / out[:, 0], decimals=2).tolist()\n",
    "\n",
    "print(\"Ratios:\\n {}\".format(sorted(ratios)))\n",
    "print(\"Inverse Ratios:\\n {}\".format(sorted(inverse_ratios)))"
   ]
  },
  {
   "cell_type": "code",
   "execution_count": null,
   "metadata": {},
   "outputs": [],
   "source": []
  }
 ],
 "metadata": {
  "interpreter": {
   "hash": "301330e3d1a852852ccce150033721f712540cac5aa9508920c02828f4985a4e"
  },
  "kernelspec": {
   "display_name": "Python 3.8.12 ('avikus')",
   "language": "python",
   "name": "python3"
  },
  "language_info": {
   "codemirror_mode": {
    "name": "ipython",
    "version": 3
   },
   "file_extension": ".py",
   "mimetype": "text/x-python",
   "name": "python",
   "nbconvert_exporter": "python",
   "pygments_lexer": "ipython3",
   "version": "3.8.12"
  },
  "orig_nbformat": 4
 },
 "nbformat": 4,
 "nbformat_minor": 2
}
